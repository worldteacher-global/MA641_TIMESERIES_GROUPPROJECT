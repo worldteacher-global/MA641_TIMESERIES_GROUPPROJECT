{
 "cells": [
  {
   "cell_type": "markdown",
   "metadata": {},
   "source": [
    "# Packages"
   ]
  },
  {
   "cell_type": "code",
   "execution_count": 698,
   "metadata": {},
   "outputs": [],
   "source": [
    "import pandas as pd\n",
    "import pandas as np\n",
    "import matplotlib.pyplot as plt\n",
    "import seaborn as sns\n",
    "\n",
    "import statsmodels as sm\n",
    "from statsmodels.tsa.arima_model import ARIMA\n",
    "from statsmodels.tsa.arima_process import ArmaProcess"
   ]
  },
  {
   "cell_type": "markdown",
   "metadata": {},
   "source": [
    "# Seasonal Data"
   ]
  },
  {
   "attachments": {},
   "cell_type": "markdown",
   "metadata": {},
   "source": [
    "### Variable Dictionary"
   ]
  },
  {
   "attachments": {},
   "cell_type": "markdown",
   "metadata": {},
   "source": [
    "s_df: Seasoaal data dataframe with all columns ('Country or Area', 'Year', 'Area', 'Month', 'Record Type','Reliability', 'Number_of_Births')\n",
    "\n",
    "s_sub_df: Modified Seasonal dataframe with a subset of columns (Year, Month, Number_of_Births)\n",
    "\n",
    "ss_df: A copy of s_sub_df used for analysis\n",
    "\n",
    "unkn_m: used to clean the analysis dataframe\n",
    "total_m: used to clean the analysis dataframe\n",
    "r1_m: used to clean the analysis dataframe\n",
    "r2_m: used to clean the analysis dataframe\n",
    "r3_m: used to clean the analysis dataframe\n",
    "r4_m: used to clean the analysis dataframe\n",
    "\n",
    "s_df_yr_lst: contains a list of years\n",
    "\n",
    "rolling_mean_7m: calcualte a moving average of 7-months\n",
    "rolling_std_7m: calcualte the standard deviation of the moving average of 7-months"
   ]
  },
  {
   "attachments": {},
   "cell_type": "markdown",
   "metadata": {},
   "source": [
    "### Import the data"
   ]
  },
  {
   "cell_type": "code",
   "execution_count": 699,
   "metadata": {},
   "outputs": [],
   "source": [
    "s_df = pd.read_csv('BirthMonthsData.csv',sep=',')"
   ]
  },
  {
   "attachments": {},
   "cell_type": "markdown",
   "metadata": {},
   "source": [
    "### Exploritory data analysis"
   ]
  },
  {
   "cell_type": "code",
   "execution_count": 700,
   "metadata": {},
   "outputs": [
    {
     "data": {
      "text/plain": [
       "(53409, 7)"
      ]
     },
     "execution_count": 700,
     "metadata": {},
     "output_type": "execute_result"
    }
   ],
   "source": [
    "s_df.shape"
   ]
  },
  {
   "cell_type": "code",
   "execution_count": 701,
   "metadata": {},
   "outputs": [
    {
     "data": {
      "text/html": [
       "<div>\n",
       "<style scoped>\n",
       "    .dataframe tbody tr th:only-of-type {\n",
       "        vertical-align: middle;\n",
       "    }\n",
       "\n",
       "    .dataframe tbody tr th {\n",
       "        vertical-align: top;\n",
       "    }\n",
       "\n",
       "    .dataframe thead th {\n",
       "        text-align: right;\n",
       "    }\n",
       "</style>\n",
       "<table border=\"1\" class=\"dataframe\">\n",
       "  <thead>\n",
       "    <tr style=\"text-align: right;\">\n",
       "      <th></th>\n",
       "      <th>Country or Area</th>\n",
       "      <th>Year</th>\n",
       "      <th>Area</th>\n",
       "      <th>Month</th>\n",
       "      <th>Record Type</th>\n",
       "      <th>Reliability</th>\n",
       "      <th>Number_of_Births</th>\n",
       "    </tr>\n",
       "  </thead>\n",
       "  <tbody>\n",
       "    <tr>\n",
       "      <th>0</th>\n",
       "      <td>Åland Islands</td>\n",
       "      <td>2019</td>\n",
       "      <td>Total</td>\n",
       "      <td>Total</td>\n",
       "      <td>Data tabulated by year of occurrence</td>\n",
       "      <td>Final figure, complete</td>\n",
       "      <td>267.0</td>\n",
       "    </tr>\n",
       "    <tr>\n",
       "      <th>1</th>\n",
       "      <td>Åland Islands</td>\n",
       "      <td>2019</td>\n",
       "      <td>Total</td>\n",
       "      <td>January</td>\n",
       "      <td>Data tabulated by year of occurrence</td>\n",
       "      <td>Final figure, complete</td>\n",
       "      <td>28.0</td>\n",
       "    </tr>\n",
       "    <tr>\n",
       "      <th>2</th>\n",
       "      <td>Åland Islands</td>\n",
       "      <td>2019</td>\n",
       "      <td>Total</td>\n",
       "      <td>February</td>\n",
       "      <td>Data tabulated by year of occurrence</td>\n",
       "      <td>Final figure, complete</td>\n",
       "      <td>24.0</td>\n",
       "    </tr>\n",
       "    <tr>\n",
       "      <th>3</th>\n",
       "      <td>Åland Islands</td>\n",
       "      <td>2019</td>\n",
       "      <td>Total</td>\n",
       "      <td>March</td>\n",
       "      <td>Data tabulated by year of occurrence</td>\n",
       "      <td>Final figure, complete</td>\n",
       "      <td>26.0</td>\n",
       "    </tr>\n",
       "    <tr>\n",
       "      <th>4</th>\n",
       "      <td>Åland Islands</td>\n",
       "      <td>2019</td>\n",
       "      <td>Total</td>\n",
       "      <td>April</td>\n",
       "      <td>Data tabulated by year of occurrence</td>\n",
       "      <td>Final figure, complete</td>\n",
       "      <td>16.0</td>\n",
       "    </tr>\n",
       "  </tbody>\n",
       "</table>\n",
       "</div>"
      ],
      "text/plain": [
       "  Country or Area  Year   Area     Month  \\\n",
       "0   Åland Islands  2019  Total     Total   \n",
       "1   Åland Islands  2019  Total   January   \n",
       "2   Åland Islands  2019  Total  February   \n",
       "3   Åland Islands  2019  Total     March   \n",
       "4   Åland Islands  2019  Total     April   \n",
       "\n",
       "                            Record Type             Reliability  \\\n",
       "0  Data tabulated by year of occurrence  Final figure, complete   \n",
       "1  Data tabulated by year of occurrence  Final figure, complete   \n",
       "2  Data tabulated by year of occurrence  Final figure, complete   \n",
       "3  Data tabulated by year of occurrence  Final figure, complete   \n",
       "4  Data tabulated by year of occurrence  Final figure, complete   \n",
       "\n",
       "   Number_of_Births  \n",
       "0             267.0  \n",
       "1              28.0  \n",
       "2              24.0  \n",
       "3              26.0  \n",
       "4              16.0  "
      ]
     },
     "execution_count": 701,
     "metadata": {},
     "output_type": "execute_result"
    }
   ],
   "source": [
    "s_df.head()"
   ]
  },
  {
   "attachments": {},
   "cell_type": "markdown",
   "metadata": {},
   "source": [
    "Summary statistics"
   ]
  },
  {
   "cell_type": "code",
   "execution_count": 702,
   "metadata": {},
   "outputs": [
    {
     "data": {
      "text/html": [
       "<div>\n",
       "<style scoped>\n",
       "    .dataframe tbody tr th:only-of-type {\n",
       "        vertical-align: middle;\n",
       "    }\n",
       "\n",
       "    .dataframe tbody tr th {\n",
       "        vertical-align: top;\n",
       "    }\n",
       "\n",
       "    .dataframe thead th {\n",
       "        text-align: right;\n",
       "    }\n",
       "</style>\n",
       "<table border=\"1\" class=\"dataframe\">\n",
       "  <thead>\n",
       "    <tr style=\"text-align: right;\">\n",
       "      <th></th>\n",
       "      <th>Year</th>\n",
       "      <th>Number_of_Births</th>\n",
       "    </tr>\n",
       "  </thead>\n",
       "  <tbody>\n",
       "    <tr>\n",
       "      <th>count</th>\n",
       "      <td>53409.000000</td>\n",
       "      <td>5.340900e+04</td>\n",
       "    </tr>\n",
       "    <tr>\n",
       "      <th>mean</th>\n",
       "      <td>1996.884982</td>\n",
       "      <td>3.889705e+04</td>\n",
       "    </tr>\n",
       "    <tr>\n",
       "      <th>std</th>\n",
       "      <td>14.153271</td>\n",
       "      <td>1.768072e+05</td>\n",
       "    </tr>\n",
       "    <tr>\n",
       "      <th>min</th>\n",
       "      <td>1967.000000</td>\n",
       "      <td>0.000000e+00</td>\n",
       "    </tr>\n",
       "    <tr>\n",
       "      <th>25%</th>\n",
       "      <td>1985.000000</td>\n",
       "      <td>4.970000e+02</td>\n",
       "    </tr>\n",
       "    <tr>\n",
       "      <th>50%</th>\n",
       "      <td>1998.000000</td>\n",
       "      <td>5.244000e+03</td>\n",
       "    </tr>\n",
       "    <tr>\n",
       "      <th>75%</th>\n",
       "      <td>2009.000000</td>\n",
       "      <td>2.092300e+04</td>\n",
       "    </tr>\n",
       "    <tr>\n",
       "      <th>max</th>\n",
       "      <td>2021.000000</td>\n",
       "      <td>4.265555e+06</td>\n",
       "    </tr>\n",
       "  </tbody>\n",
       "</table>\n",
       "</div>"
      ],
      "text/plain": [
       "               Year  Number_of_Births\n",
       "count  53409.000000      5.340900e+04\n",
       "mean    1996.884982      3.889705e+04\n",
       "std       14.153271      1.768072e+05\n",
       "min     1967.000000      0.000000e+00\n",
       "25%     1985.000000      4.970000e+02\n",
       "50%     1998.000000      5.244000e+03\n",
       "75%     2009.000000      2.092300e+04\n",
       "max     2021.000000      4.265555e+06"
      ]
     },
     "execution_count": 702,
     "metadata": {},
     "output_type": "execute_result"
    }
   ],
   "source": [
    "s_df.describe()"
   ]
  },
  {
   "cell_type": "code",
   "execution_count": 703,
   "metadata": {},
   "outputs": [
    {
     "name": "stdout",
     "output_type": "stream",
     "text": [
      "<class 'pandas.core.frame.DataFrame'>\n",
      "RangeIndex: 53409 entries, 0 to 53408\n",
      "Data columns (total 7 columns):\n",
      " #   Column            Non-Null Count  Dtype  \n",
      "---  ------            --------------  -----  \n",
      " 0   Country or Area   53409 non-null  object \n",
      " 1   Year              53409 non-null  int64  \n",
      " 2   Area              53409 non-null  object \n",
      " 3   Month             53409 non-null  object \n",
      " 4   Record Type       53409 non-null  object \n",
      " 5   Reliability       53409 non-null  object \n",
      " 6   Number_of_Births  53409 non-null  float64\n",
      "dtypes: float64(1), int64(1), object(5)\n",
      "memory usage: 2.9+ MB\n"
     ]
    }
   ],
   "source": [
    "s_df.info()"
   ]
  },
  {
   "cell_type": "code",
   "execution_count": 704,
   "metadata": {},
   "outputs": [
    {
     "data": {
      "text/plain": [
       "Country or Area     0\n",
       "Year                0\n",
       "Area                0\n",
       "Month               0\n",
       "Record Type         0\n",
       "Reliability         0\n",
       "Number_of_Births    0\n",
       "dtype: int64"
      ]
     },
     "execution_count": 704,
     "metadata": {},
     "output_type": "execute_result"
    }
   ],
   "source": [
    "s_df.isnull().sum()"
   ]
  },
  {
   "cell_type": "markdown",
   "metadata": {},
   "source": [
    "Visualize the data distribution"
   ]
  },
  {
   "cell_type": "code",
   "execution_count": 705,
   "metadata": {},
   "outputs": [
    {
     "data": {
      "text/plain": [
       "array([[<Axes: title={'center': 'Year'}>,\n",
       "        <Axes: title={'center': 'Number_of_Births'}>]], dtype=object)"
      ]
     },
     "execution_count": 705,
     "metadata": {},
     "output_type": "execute_result"
    },
    {
     "data": {
      "image/png": "[encoded data removed]",
      "text/plain": [
       "<Figure size 1800x400 with 2 Axes>"
      ]
     },
     "metadata": {},
     "output_type": "display_data"
    }
   ],
   "source": [
    "s_df.hist(bins=15)"
   ]
  },
  {
   "cell_type": "code",
   "execution_count": 706,
   "metadata": {},
   "outputs": [
    {
     "data": {
      "text/plain": [
       "Index(['Country or Area', 'Year', 'Area', 'Month', 'Record Type',\n",
       "       'Reliability', 'Number_of_Births'],\n",
       "      dtype='object')"
      ]
     },
     "execution_count": 706,
     "metadata": {},
     "output_type": "execute_result"
    }
   ],
   "source": [
    "s_df.columns"
   ]
  },
  {
   "cell_type": "code",
   "execution_count": 707,
   "metadata": {},
   "outputs": [
    {
     "data": {
      "text/plain": [
       "Total                 4072\n",
       "January               4072\n",
       "April                 4068\n",
       "March                 4062\n",
       "May                   4056\n",
       "February              4054\n",
       "July                  4051\n",
       "June                  4047\n",
       "October               4041\n",
       "September             4038\n",
       "August                4037\n",
       "November              4031\n",
       "December              4024\n",
       "Unknown                491\n",
       "January - March         72\n",
       "April - June            65\n",
       "July - September        64\n",
       "October - December      64\n",
       "Name: Month, dtype: int64"
      ]
     },
     "execution_count": 707,
     "metadata": {},
     "output_type": "execute_result"
    }
   ],
   "source": [
    "s_df.Month.value_counts()"
   ]
  },
  {
   "cell_type": "markdown",
   "metadata": {},
   "source": [
    "Clean the data removing unecessary values"
   ]
  },
  {
   "cell_type": "code",
   "execution_count": 708,
   "metadata": {},
   "outputs": [],
   "source": [
    "unkn_m = s_df.Month=='Unknown'\n",
    "total_m = s_df.Month=='Total'\n",
    "r1_m = s_df.Month=='January - March'\n",
    "r2_m = s_df.Month=='April - June'\n",
    "r3_m = s_df.Month=='October - December'\n",
    "r4_m = s_df.Month=='July - September'"
   ]
  },
  {
   "cell_type": "code",
   "execution_count": 709,
   "metadata": {},
   "outputs": [],
   "source": [
    "drp_rw = []\n",
    "drp_rw.extend(s_df[unkn_m].index)\n",
    "drp_rw.extend(s_df[total_m].index)\n",
    "drp_rw.extend(s_df[r1_m].index)\n",
    "drp_rw.extend(s_df[r2_m].index)\n",
    "drp_rw.extend(s_df[r3_m].index)\n",
    "drp_rw.extend(s_df[r4_m].index)"
   ]
  },
  {
   "cell_type": "code",
   "execution_count": 710,
   "metadata": {},
   "outputs": [
    {
     "data": {
      "text/plain": [
       "(53409, 7)"
      ]
     },
     "execution_count": 710,
     "metadata": {},
     "output_type": "execute_result"
    }
   ],
   "source": [
    "s_df.shape"
   ]
  },
  {
   "cell_type": "code",
   "execution_count": 711,
   "metadata": {},
   "outputs": [],
   "source": [
    "s_df.drop(index=drp_rw,inplace=True)"
   ]
  },
  {
   "cell_type": "code",
   "execution_count": 712,
   "metadata": {},
   "outputs": [
    {
     "data": {
      "text/plain": [
       "(48581, 7)"
      ]
     },
     "execution_count": 712,
     "metadata": {},
     "output_type": "execute_result"
    }
   ],
   "source": [
    "s_df.shape"
   ]
  },
  {
   "cell_type": "markdown",
   "metadata": {},
   "source": [
    "total instances of a particular month"
   ]
  },
  {
   "cell_type": "code",
   "execution_count": 713,
   "metadata": {},
   "outputs": [
    {
     "data": {
      "text/plain": [
       "January      4072\n",
       "April        4068\n",
       "March        4062\n",
       "May          4056\n",
       "February     4054\n",
       "July         4051\n",
       "June         4047\n",
       "October      4041\n",
       "September    4038\n",
       "August       4037\n",
       "November     4031\n",
       "December     4024\n",
       "Name: Month, dtype: int64"
      ]
     },
     "execution_count": 713,
     "metadata": {},
     "output_type": "execute_result"
    }
   ],
   "source": [
    "s_df.Month.value_counts()"
   ]
  },
  {
   "cell_type": "markdown",
   "metadata": {},
   "source": [
    "total instance of a particular year to get an idea of number of months per year"
   ]
  },
  {
   "cell_type": "code",
   "execution_count": 714,
   "metadata": {},
   "outputs": [],
   "source": [
    "# with pd.option_context('display.max_rows',None):"
   ]
  },
  {
   "cell_type": "code",
   "execution_count": 715,
   "metadata": {},
   "outputs": [
    {
     "data": {
      "text/plain": [
       "[2019,\n",
       " 2018,\n",
       " 2017,\n",
       " 2016,\n",
       " 2015,\n",
       " 2014,\n",
       " 2013,\n",
       " 2012,\n",
       " 2008,\n",
       " 2007,\n",
       " 2006,\n",
       " 2005,\n",
       " 2004,\n",
       " 2003,\n",
       " 2002,\n",
       " 2001,\n",
       " 2000,\n",
       " 1999,\n",
       " 1998,\n",
       " 1997,\n",
       " 1996,\n",
       " 1995,\n",
       " 1994,\n",
       " 1993,\n",
       " 1992,\n",
       " 1991,\n",
       " 1990,\n",
       " 1989,\n",
       " 1988,\n",
       " 1987,\n",
       " 1986,\n",
       " 1985,\n",
       " 1984,\n",
       " 1983,\n",
       " 1982,\n",
       " 1981,\n",
       " 2010,\n",
       " 1980,\n",
       " 1979,\n",
       " 1978,\n",
       " 2020,\n",
       " 2011,\n",
       " 2009,\n",
       " 1976,\n",
       " 1973,\n",
       " 1971,\n",
       " 1975,\n",
       " 1974,\n",
       " 1972,\n",
       " 1977,\n",
       " 1970,\n",
       " 1969,\n",
       " 2021,\n",
       " 1968,\n",
       " 1967]"
      ]
     },
     "execution_count": 715,
     "metadata": {},
     "output_type": "execute_result"
    }
   ],
   "source": [
    "s_df_yr_lst = list(s_df.Year.unique())\n",
    "s_df_yr_lst"
   ]
  },
  {
   "cell_type": "code",
   "execution_count": 716,
   "metadata": {},
   "outputs": [
    {
     "data": {
      "text/plain": [
       "12"
      ]
     },
     "metadata": {},
     "output_type": "display_data"
    },
    {
     "data": {
      "text/plain": [
       "12"
      ]
     },
     "metadata": {},
     "output_type": "display_data"
    },
    {
     "data": {
      "text/plain": [
       "12"
      ]
     },
     "metadata": {},
     "output_type": "display_data"
    },
    {
     "data": {
      "text/plain": [
       "12"
      ]
     },
     "metadata": {},
     "output_type": "display_data"
    },
    {
     "data": {
      "text/plain": [
       "12"
      ]
     },
     "metadata": {},
     "output_type": "display_data"
    },
    {
     "data": {
      "text/plain": [
       "12"
      ]
     },
     "metadata": {},
     "output_type": "display_data"
    },
    {
     "data": {
      "text/plain": [
       "12"
      ]
     },
     "metadata": {},
     "output_type": "display_data"
    },
    {
     "data": {
      "text/plain": [
       "12"
      ]
     },
     "metadata": {},
     "output_type": "display_data"
    },
    {
     "data": {
      "text/plain": [
       "12"
      ]
     },
     "metadata": {},
     "output_type": "display_data"
    },
    {
     "data": {
      "text/plain": [
       "12"
      ]
     },
     "metadata": {},
     "output_type": "display_data"
    },
    {
     "data": {
      "text/plain": [
       "12"
      ]
     },
     "metadata": {},
     "output_type": "display_data"
    },
    {
     "data": {
      "text/plain": [
       "12"
      ]
     },
     "metadata": {},
     "output_type": "display_data"
    },
    {
     "data": {
      "text/plain": [
       "12"
      ]
     },
     "metadata": {},
     "output_type": "display_data"
    },
    {
     "data": {
      "text/plain": [
       "12"
      ]
     },
     "metadata": {},
     "output_type": "display_data"
    },
    {
     "data": {
      "text/plain": [
       "12"
      ]
     },
     "metadata": {},
     "output_type": "display_data"
    },
    {
     "data": {
      "text/plain": [
       "12"
      ]
     },
     "metadata": {},
     "output_type": "display_data"
    },
    {
     "data": {
      "text/plain": [
       "12"
      ]
     },
     "metadata": {},
     "output_type": "display_data"
    },
    {
     "data": {
      "text/plain": [
       "12"
      ]
     },
     "metadata": {},
     "output_type": "display_data"
    },
    {
     "data": {
      "text/plain": [
       "12"
      ]
     },
     "metadata": {},
     "output_type": "display_data"
    },
    {
     "data": {
      "text/plain": [
       "12"
      ]
     },
     "metadata": {},
     "output_type": "display_data"
    },
    {
     "data": {
      "text/plain": [
       "12"
      ]
     },
     "metadata": {},
     "output_type": "display_data"
    },
    {
     "data": {
      "text/plain": [
       "12"
      ]
     },
     "metadata": {},
     "output_type": "display_data"
    },
    {
     "data": {
      "text/plain": [
       "12"
      ]
     },
     "metadata": {},
     "output_type": "display_data"
    },
    {
     "data": {
      "text/plain": [
       "12"
      ]
     },
     "metadata": {},
     "output_type": "display_data"
    },
    {
     "data": {
      "text/plain": [
       "12"
      ]
     },
     "metadata": {},
     "output_type": "display_data"
    },
    {
     "data": {
      "text/plain": [
       "12"
      ]
     },
     "metadata": {},
     "output_type": "display_data"
    },
    {
     "data": {
      "text/plain": [
       "12"
      ]
     },
     "metadata": {},
     "output_type": "display_data"
    },
    {
     "data": {
      "text/plain": [
       "12"
      ]
     },
     "metadata": {},
     "output_type": "display_data"
    },
    {
     "data": {
      "text/plain": [
       "12"
      ]
     },
     "metadata": {},
     "output_type": "display_data"
    },
    {
     "data": {
      "text/plain": [
       "12"
      ]
     },
     "metadata": {},
     "output_type": "display_data"
    },
    {
     "data": {
      "text/plain": [
       "12"
      ]
     },
     "metadata": {},
     "output_type": "display_data"
    },
    {
     "data": {
      "text/plain": [
       "12"
      ]
     },
     "metadata": {},
     "output_type": "display_data"
    },
    {
     "data": {
      "text/plain": [
       "12"
      ]
     },
     "metadata": {},
     "output_type": "display_data"
    },
    {
     "data": {
      "text/plain": [
       "12"
      ]
     },
     "metadata": {},
     "output_type": "display_data"
    },
    {
     "data": {
      "text/plain": [
       "12"
      ]
     },
     "metadata": {},
     "output_type": "display_data"
    },
    {
     "data": {
      "text/plain": [
       "12"
      ]
     },
     "metadata": {},
     "output_type": "display_data"
    },
    {
     "data": {
      "text/plain": [
       "12"
      ]
     },
     "metadata": {},
     "output_type": "display_data"
    },
    {
     "data": {
      "text/plain": [
       "12"
      ]
     },
     "metadata": {},
     "output_type": "display_data"
    },
    {
     "data": {
      "text/plain": [
       "12"
      ]
     },
     "metadata": {},
     "output_type": "display_data"
    },
    {
     "data": {
      "text/plain": [
       "12"
      ]
     },
     "metadata": {},
     "output_type": "display_data"
    },
    {
     "data": {
      "text/plain": [
       "12"
      ]
     },
     "metadata": {},
     "output_type": "display_data"
    },
    {
     "data": {
      "text/plain": [
       "12"
      ]
     },
     "metadata": {},
     "output_type": "display_data"
    },
    {
     "data": {
      "text/plain": [
       "12"
      ]
     },
     "metadata": {},
     "output_type": "display_data"
    },
    {
     "data": {
      "text/plain": [
       "12"
      ]
     },
     "metadata": {},
     "output_type": "display_data"
    },
    {
     "data": {
      "text/plain": [
       "12"
      ]
     },
     "metadata": {},
     "output_type": "display_data"
    },
    {
     "data": {
      "text/plain": [
       "12"
      ]
     },
     "metadata": {},
     "output_type": "display_data"
    },
    {
     "data": {
      "text/plain": [
       "12"
      ]
     },
     "metadata": {},
     "output_type": "display_data"
    },
    {
     "data": {
      "text/plain": [
       "12"
      ]
     },
     "metadata": {},
     "output_type": "display_data"
    },
    {
     "data": {
      "text/plain": [
       "12"
      ]
     },
     "metadata": {},
     "output_type": "display_data"
    },
    {
     "data": {
      "text/plain": [
       "12"
      ]
     },
     "metadata": {},
     "output_type": "display_data"
    },
    {
     "data": {
      "text/plain": [
       "12"
      ]
     },
     "metadata": {},
     "output_type": "display_data"
    },
    {
     "data": {
      "text/plain": [
       "12"
      ]
     },
     "metadata": {},
     "output_type": "display_data"
    },
    {
     "data": {
      "text/plain": [
       "7"
      ]
     },
     "metadata": {},
     "output_type": "display_data"
    },
    {
     "data": {
      "text/plain": [
       "12"
      ]
     },
     "metadata": {},
     "output_type": "display_data"
    },
    {
     "data": {
      "text/plain": [
       "12"
      ]
     },
     "metadata": {},
     "output_type": "display_data"
    }
   ],
   "source": [
    "for yr in s_df_yr_lst:    \n",
    "       display(len(s_df[s_df['Year']==yr]['Month'].unique()))"
   ]
  },
  {
   "cell_type": "code",
   "execution_count": 717,
   "metadata": {},
   "outputs": [
    {
     "name": "stdout",
     "output_type": "stream",
     "text": [
      "['April' 'May' 'June' 'January' 'February' 'March' 'July']\n",
      "Total Months: 7\n"
     ]
    }
   ],
   "source": [
    "print(s_df[s_df['Year']==2021]['Month'].unique())\n",
    "print('Total Months:', len(s_df[s_df['Year']==2021]['Month'].unique()))"
   ]
  },
  {
   "attachments": {},
   "cell_type": "markdown",
   "metadata": {},
   "source": [
    "It appears there are only 7 months in the year 2021. (Missing: September, August, December, October, and November) could be due to the time that this data was compiled"
   ]
  },
  {
   "cell_type": "code",
   "execution_count": 718,
   "metadata": {},
   "outputs": [],
   "source": [
    "s_sub_df = s_df[['Year','Month','Number_of_Births']]"
   ]
  },
  {
   "cell_type": "code",
   "execution_count": 719,
   "metadata": {},
   "outputs": [],
   "source": [
    "# pd.set_option('display.max_rows',None)"
   ]
  },
  {
   "cell_type": "code",
   "execution_count": 720,
   "metadata": {},
   "outputs": [],
   "source": [
    "ss_df = s_sub_df.copy()"
   ]
  },
  {
   "cell_type": "code",
   "execution_count": 721,
   "metadata": {},
   "outputs": [],
   "source": [
    "ss_df.sort_values('Year',inplace=True)"
   ]
  },
  {
   "cell_type": "code",
   "execution_count": 722,
   "metadata": {},
   "outputs": [],
   "source": [
    "ss_df.reset_index(drop=True,inplace=True)"
   ]
  },
  {
   "cell_type": "markdown",
   "metadata": {},
   "source": [
    "Inspect the average birth per month per year after data cleaning"
   ]
  },
  {
   "cell_type": "code",
   "execution_count": 723,
   "metadata": {},
   "outputs": [
    {
     "data": {
      "text/plain": [
       "Year\n",
       "1967     5952.316667\n",
       "1968     4914.138889\n",
       "1969    36323.034722\n",
       "1970    29284.876984\n",
       "1971    21936.228501\n",
       "Name: Number_of_Births, dtype: float64"
      ]
     },
     "execution_count": 723,
     "metadata": {},
     "output_type": "execute_result"
    }
   ],
   "source": [
    "ss_df.groupby('Year')['Number_of_Births'].mean()[:5]"
   ]
  },
  {
   "cell_type": "code",
   "execution_count": 724,
   "metadata": {},
   "outputs": [],
   "source": [
    "ss_df.set_index('Year',inplace=True)"
   ]
  },
  {
   "cell_type": "markdown",
   "metadata": {},
   "source": [
    "Number of birth is given in units of Month per Year"
   ]
  },
  {
   "cell_type": "code",
   "execution_count": 725,
   "metadata": {},
   "outputs": [
    {
     "name": "stdout",
     "output_type": "stream",
     "text": [
      "Year  Month    \n",
      "1967  April          5\n",
      "      August         5\n",
      "      December       5\n",
      "      February       5\n",
      "      January        5\n",
      "      July           5\n",
      "      June           5\n",
      "      March          5\n",
      "      May            5\n",
      "      November       5\n",
      "      October        5\n",
      "      September      5\n",
      "1968  April          6\n",
      "      August         6\n",
      "      December       6\n",
      "      February       6\n",
      "      January        6\n",
      "      July           6\n",
      "      June           6\n",
      "      March          6\n",
      "      May            6\n",
      "      November       6\n",
      "      October        6\n",
      "      September      6\n",
      "1969  April         12\n",
      "      August        12\n",
      "      December      12\n",
      "      February      12\n",
      "      January       12\n",
      "      July          12\n",
      "      June          12\n",
      "      March         12\n",
      "      May           12\n",
      "      November      12\n",
      "      October       12\n",
      "      September     12\n",
      "1970  April         21\n",
      "      August        21\n",
      "      December      21\n",
      "      February      21\n",
      "      January       21\n",
      "      July          21\n",
      "      June          21\n",
      "      March         21\n",
      "      May           21\n",
      "      November      21\n",
      "      October       21\n",
      "      September     21\n",
      "1971  April         34\n",
      "      August        34\n",
      "      December      33\n",
      "      February      34\n",
      "      January       34\n",
      "      July          34\n",
      "      June          34\n",
      "      March         34\n",
      "      May           34\n",
      "      November      34\n",
      "      October       34\n",
      "      September     34\n",
      "1972  April         32\n",
      "      August        32\n",
      "      December      32\n",
      "      February      32\n",
      "      January       32\n",
      "      July          32\n",
      "      June          32\n",
      "      March         32\n",
      "      May           32\n",
      "      November      32\n",
      "      October       32\n",
      "      September     31\n",
      "1973  April         67\n",
      "      August        67\n",
      "      December      66\n",
      "      February      66\n",
      "      January       67\n",
      "      July          67\n",
      "      June          67\n",
      "      March         67\n",
      "      May           67\n",
      "      November      67\n",
      "      October       66\n",
      "      September     66\n",
      "1974  April         70\n",
      "      August        70\n",
      "      December      70\n",
      "      February      69\n",
      "      January       70\n",
      "      July          70\n",
      "      June          70\n",
      "      March         70\n",
      "      May           69\n",
      "      November      70\n",
      "      October       70\n",
      "      September     70\n",
      "1975  April         69\n",
      "      August        69\n",
      "      December      68\n",
      "      February      67\n",
      "      January       68\n",
      "      July          69\n",
      "      June          69\n",
      "      March         69\n",
      "      May           69\n",
      "      November      68\n",
      "      October       69\n",
      "      September     68\n",
      "1976  April         65\n",
      "      August        66\n",
      "      December      65\n",
      "      February      66\n",
      "      January       67\n",
      "      July          67\n",
      "      June          66\n",
      "      March         66\n",
      "      May           67\n",
      "      November      67\n",
      "      October       66\n",
      "      September     67\n",
      "1977  April         64\n",
      "      August        63\n",
      "      December      63\n",
      "      February      64\n",
      "      January       63\n",
      "      July          64\n",
      "      June          64\n",
      "      March         64\n",
      "      May           64\n",
      "      November      64\n",
      "      October       64\n",
      "      September     64\n",
      "1978  April         74\n",
      "      August        73\n",
      "      December      72\n",
      "      February      74\n",
      "      January       74\n",
      "      July          73\n",
      "      June          73\n",
      "      March         73\n",
      "      May           74\n",
      "      November      73\n",
      "      October       73\n",
      "      September     73\n",
      "1979  April         71\n",
      "      August        73\n",
      "      December      72\n",
      "      February      72\n",
      "      January       72\n",
      "      July          72\n",
      "      June          72\n",
      "      March         72\n",
      "      May           73\n",
      "      November      72\n",
      "      October       71\n",
      "      September     72\n",
      "1980  April         77\n",
      "      August        77\n",
      "      December      77\n",
      "      February      77\n",
      "      January       77\n",
      "      July          77\n",
      "      June          77\n",
      "      March         77\n",
      "      May           77\n",
      "      November      77\n",
      "      October       77\n",
      "      September     77\n",
      "1981  April         77\n",
      "      August        77\n",
      "      December      77\n",
      "      February      77\n",
      "      January       77\n",
      "      July          77\n",
      "      June          77\n",
      "      March         77\n",
      "      May           77\n",
      "      November      77\n",
      "      October       77\n",
      "      September     77\n",
      "1982  April         78\n",
      "      August        78\n",
      "      December      78\n",
      "      February      78\n",
      "      January       78\n",
      "      July          78\n",
      "      June          78\n",
      "      March         78\n",
      "      May           78\n",
      "      November      78\n",
      "      October       78\n",
      "      September     78\n",
      "1983  April         77\n",
      "      August        76\n",
      "      December      76\n",
      "      February      76\n",
      "      January       77\n",
      "      July          77\n",
      "      June          76\n",
      "      March         76\n",
      "      May           76\n",
      "      November      76\n",
      "      October       77\n",
      "      September     76\n",
      "1984  April         80\n",
      "      August        79\n",
      "      December      78\n",
      "      February      79\n",
      "      January       80\n",
      "      July          80\n",
      "      June          79\n",
      "      March         79\n",
      "      May           79\n",
      "      November      79\n",
      "      October       80\n",
      "      September     79\n",
      "1985  April         85\n",
      "      August        84\n",
      "      December      83\n",
      "      February      84\n",
      "      January       85\n",
      "      July          85\n",
      "      June          84\n",
      "      March         84\n",
      "      May           84\n",
      "      November      84\n",
      "      October       85\n",
      "      September     84\n",
      "1986  April         81\n",
      "      August        80\n",
      "      December      79\n",
      "      February      80\n",
      "      January       81\n",
      "      July          81\n",
      "      June          80\n",
      "      March         80\n",
      "      May           80\n",
      "      November      80\n",
      "      October       81\n",
      "      September     80\n",
      "1987  April         77\n",
      "      August        77\n",
      "      December      77\n",
      "      February      77\n",
      "      January       77\n",
      "      July          77\n",
      "      June          77\n",
      "      March         77\n",
      "      May           77\n",
      "      November      77\n",
      "      October       77\n",
      "      September     77\n",
      "1988  April         79\n",
      "      August        78\n",
      "      December      78\n",
      "      February      78\n",
      "      January       79\n",
      "      July          79\n",
      "      June          78\n",
      "      March         78\n",
      "      May           78\n",
      "      November      78\n",
      "      October       79\n",
      "      September     78\n",
      "1989  April         74\n",
      "      August        73\n",
      "      December      73\n",
      "      February      73\n",
      "      January       74\n",
      "      July          74\n",
      "      June          73\n",
      "      March         73\n",
      "      May           73\n",
      "      November      73\n",
      "      October       74\n",
      "      September     73\n",
      "1990  April         80\n",
      "      August        80\n",
      "      December      80\n",
      "      February      80\n",
      "      January       80\n",
      "      July          80\n",
      "      June          80\n",
      "      March         80\n",
      "      May           80\n",
      "      November      80\n",
      "      October       80\n",
      "      September     80\n",
      "1991  April         78\n",
      "      August        77\n",
      "      December      77\n",
      "      February      77\n",
      "      January       78\n",
      "      July          78\n",
      "      June          77\n",
      "      March         77\n",
      "      May           77\n",
      "      November      77\n",
      "      October       78\n",
      "      September     77\n",
      "1992  April         85\n",
      "      August        84\n",
      "      December      84\n",
      "      February      84\n",
      "      January       85\n",
      "      July          85\n",
      "      June          84\n",
      "      March         84\n",
      "      May           84\n",
      "      November      84\n",
      "      October       85\n",
      "      September     84\n",
      "1993  April         78\n",
      "      August        77\n",
      "      December      77\n",
      "      February      77\n",
      "      January       78\n",
      "      July          78\n",
      "      June          77\n",
      "      March         77\n",
      "      May           77\n",
      "      November      77\n",
      "      October       78\n",
      "      September     77\n",
      "1994  April         85\n",
      "      August        84\n",
      "      December      84\n",
      "      February      84\n",
      "      January       85\n",
      "      July          85\n",
      "      June          84\n",
      "      March         84\n",
      "      May           84\n",
      "      November      84\n",
      "      October       85\n",
      "      September     84\n",
      "1995  April         88\n",
      "      August        87\n",
      "      December      87\n",
      "      February      87\n",
      "      January       88\n",
      "      July          88\n",
      "      June          87\n",
      "      March         87\n",
      "      May           87\n",
      "      November      87\n",
      "      October       88\n",
      "      September     87\n",
      "1996  April         83\n",
      "      August        83\n",
      "      December      83\n",
      "      February      83\n",
      "      January       83\n",
      "      July          83\n",
      "      June          83\n",
      "      March         83\n",
      "      May           83\n",
      "      November      83\n",
      "      October       83\n",
      "      September     83\n",
      "1997  April         88\n",
      "      August        87\n",
      "      December      87\n",
      "      February      87\n",
      "      January       88\n",
      "      July          88\n",
      "      June          87\n",
      "      March         87\n",
      "      May           87\n",
      "      November      87\n",
      "      October       88\n",
      "      September     87\n",
      "1998  April         82\n",
      "      August        82\n",
      "      December      82\n",
      "      February      82\n",
      "      January       82\n",
      "      July          82\n",
      "      June          82\n",
      "      March         82\n",
      "      May           82\n",
      "      November      82\n",
      "      October       82\n",
      "      September     82\n",
      "1999  April         94\n",
      "      August        94\n",
      "      December      94\n",
      "      February      94\n",
      "      January       94\n",
      "      July          94\n",
      "      June          94\n",
      "      March         94\n",
      "      May           94\n",
      "      November      94\n",
      "      October       94\n",
      "      September     94\n",
      "2000  April         90\n",
      "      August        90\n",
      "      December      90\n",
      "      February      90\n",
      "      January       90\n",
      "      July          90\n",
      "      June          90\n",
      "      March         90\n",
      "      May           90\n",
      "      November      90\n",
      "      October       90\n",
      "      September     90\n",
      "2001  April         91\n",
      "      August        91\n",
      "      December      91\n",
      "      February      91\n",
      "      January       91\n",
      "      July          91\n",
      "      June          91\n",
      "      March         91\n",
      "      May           91\n",
      "      November      91\n",
      "      October       91\n",
      "      September     91\n",
      "2002  April         90\n",
      "      August        90\n",
      "      December      90\n",
      "      February      90\n",
      "      January       90\n",
      "      July          90\n",
      "      June          90\n",
      "      March         90\n",
      "      May           90\n",
      "      November      90\n",
      "      October       90\n",
      "      September     90\n",
      "2003  April         87\n",
      "      August        87\n",
      "      December      87\n",
      "      February      87\n",
      "      January       87\n",
      "      July          87\n",
      "      June          87\n",
      "      March         87\n",
      "      May           87\n",
      "      November      86\n",
      "      October       86\n",
      "      September     87\n",
      "2004  April         88\n",
      "      August        88\n",
      "      December      88\n",
      "      February      87\n",
      "      January       87\n",
      "      July          88\n",
      "      June          88\n",
      "      March         88\n",
      "      May           88\n",
      "      November      88\n",
      "      October       88\n",
      "      September     88\n",
      "2005  April         79\n",
      "      August        79\n",
      "      December      78\n",
      "      February      78\n",
      "      January       79\n",
      "      July          79\n",
      "      June          79\n",
      "      March         79\n",
      "      May           79\n",
      "      November      79\n",
      "      October       79\n",
      "      September     79\n",
      "2006  April         77\n",
      "      August        76\n",
      "      December      75\n",
      "      February      75\n",
      "      January       75\n",
      "      July          76\n",
      "      June          77\n",
      "      March         77\n",
      "      May           77\n",
      "      November      75\n",
      "      October       75\n",
      "      September     77\n",
      "2007  April         96\n",
      "      August        95\n",
      "      December      95\n",
      "      February      96\n",
      "      January       96\n",
      "      July          95\n",
      "      June          95\n",
      "      March         96\n",
      "      May           96\n",
      "      November      95\n",
      "      October       95\n",
      "      September     95\n",
      "2008  April         83\n",
      "      August        83\n",
      "      December      83\n",
      "      February      83\n",
      "      January       83\n",
      "      July          83\n",
      "      June          83\n",
      "      March         83\n",
      "      May           83\n",
      "      November      83\n",
      "      October       83\n",
      "      September     83\n",
      "2009  April         86\n",
      "      August        86\n",
      "      December      86\n",
      "      February      86\n",
      "      January       86\n",
      "      July          86\n",
      "      June          86\n",
      "      March         86\n",
      "      May           86\n",
      "      November      86\n",
      "      October       86\n",
      "      September     86\n",
      "2010  April         81\n",
      "      August        81\n",
      "      December      82\n",
      "      February      83\n",
      "      January       83\n",
      "      July          81\n",
      "      June          82\n",
      "      March         84\n",
      "      May           81\n",
      "      November      81\n",
      "      October       81\n",
      "      September     82\n",
      "2011  April         85\n",
      "      August        85\n",
      "      December      86\n",
      "      February      85\n",
      "      January       85\n",
      "      July          85\n",
      "      June          86\n",
      "      March         86\n",
      "      May           85\n",
      "      November      85\n",
      "      October       85\n",
      "      September     86\n",
      "2012  April         86\n",
      "      August        85\n",
      "      December      85\n",
      "      February      86\n",
      "      January       86\n",
      "      July          85\n",
      "      June          85\n",
      "      March         86\n",
      "      May           85\n",
      "      November      85\n",
      "      October       85\n",
      "      September     85\n",
      "2013  April         92\n",
      "      August        92\n",
      "      December      92\n",
      "      February      92\n",
      "      January       92\n",
      "      July          92\n",
      "      June          92\n",
      "      March         92\n",
      "      May           92\n",
      "      November      92\n",
      "      October       91\n",
      "      September     92\n",
      "2014  April         93\n",
      "      August        94\n",
      "      December      94\n",
      "      February      92\n",
      "      January       93\n",
      "      July          93\n",
      "      June          93\n",
      "      March         92\n",
      "      May           93\n",
      "      November      94\n",
      "      October       94\n",
      "      September     94\n",
      "2015  April         93\n",
      "      August        93\n",
      "      December      93\n",
      "      February      93\n",
      "      January       93\n",
      "      July          93\n",
      "      June          93\n",
      "      March         93\n",
      "      May           93\n",
      "      November      93\n",
      "      October       93\n",
      "      September     93\n",
      "2016  April         97\n",
      "      August        97\n",
      "      December      97\n",
      "      February      97\n",
      "      January       97\n",
      "      July          97\n",
      "      June          97\n",
      "      March         97\n",
      "      May           97\n",
      "      November      97\n",
      "      October       97\n",
      "      September     97\n",
      "2017  April        103\n",
      "      August       103\n",
      "      December     103\n",
      "      February     103\n",
      "      January      103\n",
      "      July         103\n",
      "      June         103\n",
      "      March        103\n",
      "      May          103\n",
      "      November     103\n",
      "      October      103\n",
      "      September    103\n",
      "2018  April        112\n",
      "      August       112\n",
      "      December     111\n",
      "      February     112\n",
      "      January      112\n",
      "      July         112\n",
      "      June         112\n",
      "      March        112\n",
      "      May          112\n",
      "      November     111\n",
      "      October      112\n",
      "      September    112\n",
      "2019  April         87\n",
      "      August        86\n",
      "      December      86\n",
      "      February      88\n",
      "      January       88\n",
      "      July          86\n",
      "      June          86\n",
      "      March         88\n",
      "      May           86\n",
      "      November      86\n",
      "      October       86\n",
      "      September     87\n",
      "2020  April         41\n",
      "      August        39\n",
      "      December      36\n",
      "      February      41\n",
      "      January       41\n",
      "      July          40\n",
      "      June          40\n",
      "      March         40\n",
      "      May           41\n",
      "      November      36\n",
      "      October       36\n",
      "      September     38\n",
      "2021  April         15\n",
      "      February      17\n",
      "      January       18\n",
      "      July           1\n",
      "      June           7\n",
      "      March         17\n",
      "      May           14\n",
      "Name: Number_of_Births, dtype: int64\n"
     ]
    }
   ],
   "source": [
    "print(s_sub_df.groupby(['Year','Month'])['Number_of_Births'].count())"
   ]
  },
  {
   "cell_type": "code",
   "execution_count": 726,
   "metadata": {},
   "outputs": [
    {
     "data": {
      "text/html": [
       "<div>\n",
       "<style scoped>\n",
       "    .dataframe tbody tr th:only-of-type {\n",
       "        vertical-align: middle;\n",
       "    }\n",
       "\n",
       "    .dataframe tbody tr th {\n",
       "        vertical-align: top;\n",
       "    }\n",
       "\n",
       "    .dataframe thead th {\n",
       "        text-align: right;\n",
       "    }\n",
       "</style>\n",
       "<table border=\"1\" class=\"dataframe\">\n",
       "  <thead>\n",
       "    <tr style=\"text-align: right;\">\n",
       "      <th></th>\n",
       "      <th>Month</th>\n",
       "      <th>Number_of_Births</th>\n",
       "    </tr>\n",
       "    <tr>\n",
       "      <th>Year</th>\n",
       "      <th></th>\n",
       "      <th></th>\n",
       "    </tr>\n",
       "  </thead>\n",
       "  <tbody>\n",
       "    <tr>\n",
       "      <th>1967</th>\n",
       "      <td>February</td>\n",
       "      <td>1952.0</td>\n",
       "    </tr>\n",
       "    <tr>\n",
       "      <th>1967</th>\n",
       "      <td>September</td>\n",
       "      <td>2115.0</td>\n",
       "    </tr>\n",
       "    <tr>\n",
       "      <th>1967</th>\n",
       "      <td>October</td>\n",
       "      <td>2137.0</td>\n",
       "    </tr>\n",
       "    <tr>\n",
       "      <th>1967</th>\n",
       "      <td>November</td>\n",
       "      <td>2183.0</td>\n",
       "    </tr>\n",
       "    <tr>\n",
       "      <th>1967</th>\n",
       "      <td>December</td>\n",
       "      <td>1453.0</td>\n",
       "    </tr>\n",
       "  </tbody>\n",
       "</table>\n",
       "</div>"
      ],
      "text/plain": [
       "          Month  Number_of_Births\n",
       "Year                             \n",
       "1967   February            1952.0\n",
       "1967  September            2115.0\n",
       "1967    October            2137.0\n",
       "1967   November            2183.0\n",
       "1967   December            1453.0"
      ]
     },
     "execution_count": 726,
     "metadata": {},
     "output_type": "execute_result"
    }
   ],
   "source": [
    "ss_df.head()"
   ]
  },
  {
   "cell_type": "markdown",
   "metadata": {},
   "source": [
    "Plot the time series"
   ]
  },
  {
   "cell_type": "code",
   "execution_count": 728,
   "metadata": {},
   "outputs": [
    {
     "data": {
      "image/png": "[encoded data removed]",
      "text/plain": [
       "<Figure size 1800x400 with 1 Axes>"
      ]
     },
     "metadata": {},
     "output_type": "display_data"
    }
   ],
   "source": [
    "sns.lineplot(ss_df)\n",
    "plt.ylabel('Average Number of Births');\n",
    "plt.xlabel('Month per Year');"
   ]
  },
  {
   "cell_type": "code",
   "execution_count": 730,
   "metadata": {},
   "outputs": [
    {
     "data": {
      "text/plain": [
       "[<matplotlib.lines.Line2D at 0x2ce896e1a50>]"
      ]
     },
     "execution_count": 730,
     "metadata": {},
     "output_type": "execute_result"
    },
    {
     "data": {
      "image/png": "[encoded data removed]",
      "text/plain": [
       "<Figure size 1800x400 with 1 Axes>"
      ]
     },
     "metadata": {},
     "output_type": "display_data"
    }
   ],
   "source": [
    "plt.plot(ss_df['Number_of_Births'])"
   ]
  },
  {
   "attachments": {},
   "cell_type": "markdown",
   "metadata": {},
   "source": [
    "Inspecting a 7-month rolling mean (moving average of 7 months)"
   ]
  },
  {
   "cell_type": "code",
   "execution_count": 394,
   "metadata": {},
   "outputs": [],
   "source": [
    "rolling_mean_7m = ss_df.rolling(7).mean()\n",
    "rolling_std_7m = ss_df.rolling(7).std()"
   ]
  },
  {
   "cell_type": "code",
   "execution_count": 732,
   "metadata": {},
   "outputs": [
    {
     "data": {
      "image/png": "[encoded data removed]",
      "text/plain": [
       "<Figure size 1800x400 with 1 Axes>"
      ]
     },
     "metadata": {},
     "output_type": "display_data"
    }
   ],
   "source": [
    "plt.plot(ss_df.reset_index().groupby('Year')['Number_of_Births'].mean(),color='blue',label='Original data')\n",
    "\n",
    "plt.plot(rolling_mean_2m.reset_index().groupby('Year').mean(),color='red',label='rolling mean')\n",
    "\n",
    "plt.plot(rolling_std_2m.reset_index().groupby('Year')['Number_of_Births'].mean(),color='black',label='rolling std')\n",
    "\n",
    "plt.show()\n",
    "\n"
   ]
  },
  {
   "cell_type": "markdown",
   "metadata": {},
   "source": [
    "#### Dickey Fuller Test"
   ]
  },
  {
   "cell_type": "code",
   "execution_count": 404,
   "metadata": {},
   "outputs": [],
   "source": [
    "from statsmodels.tsa.stattools import adfuller"
   ]
  },
  {
   "cell_type": "code",
   "execution_count": 406,
   "metadata": {},
   "outputs": [],
   "source": [
    "adft = adfuller(ss_df,autolag='AIC')"
   ]
  },
  {
   "cell_type": "code",
   "execution_count": 409,
   "metadata": {},
   "outputs": [
    {
     "name": "stdout",
     "output_type": "stream",
     "text": [
      "         Values                       Metric\n",
      "0    -32.123694              Test Statistics\n",
      "1      0.000000                      p-value\n",
      "2     34.000000             No. of lags used\n",
      "3  48546.000000  Number of observations used\n",
      "4     -3.430485          critical value (1%)\n",
      "5     -2.861600          critical value (5%)\n",
      "6     -2.566802         critical value (10%)\n"
     ]
    }
   ],
   "source": [
    "ss_df = pd.DataFrame({\"Values\":[adft[0],adft[1],adft[2],adft[3], adft[4]['1%'],\\\n",
    "     adft[4]['5%'], adft[4]['10%']] ,\\\n",
    "         \"Metric\":[\"Test Statistics\",\"p-value\",\"No. of lags used\",\\\n",
    "            \"Number of observations used\",\"critical value (1%)\", \"critical value (5%)\", \"critical value (10%)\"]})\n",
    "print(ss_df)"
   ]
  },
  {
   "cell_type": "markdown",
   "metadata": {},
   "source": [
    "Dickey Fuller test to determine the stationarity of the data. (based on the p-value we will choose to reject or accept the null hypothesis \"H0: NO stationarity\")"
   ]
  },
  {
   "cell_type": "code",
   "execution_count": null,
   "metadata": {},
   "outputs": [],
   "source": []
  },
  {
   "cell_type": "code",
   "execution_count": null,
   "metadata": {},
   "outputs": [],
   "source": []
  },
  {
   "cell_type": "code",
   "execution_count": null,
   "metadata": {},
   "outputs": [],
   "source": []
  },
  {
   "cell_type": "code",
   "execution_count": null,
   "metadata": {},
   "outputs": [],
   "source": []
  },
  {
   "cell_type": "code",
   "execution_count": null,
   "metadata": {},
   "outputs": [],
   "source": []
  },
  {
   "cell_type": "code",
   "execution_count": null,
   "metadata": {},
   "outputs": [],
   "source": []
  },
  {
   "cell_type": "code",
   "execution_count": null,
   "metadata": {},
   "outputs": [],
   "source": []
  },
  {
   "cell_type": "code",
   "execution_count": null,
   "metadata": {},
   "outputs": [],
   "source": []
  },
  {
   "cell_type": "code",
   "execution_count": null,
   "metadata": {},
   "outputs": [],
   "source": []
  },
  {
   "attachments": {},
   "cell_type": "markdown",
   "metadata": {},
   "source": [
    "# Non-seasonal data"
   ]
  },
  {
   "cell_type": "code",
   "execution_count": 3,
   "metadata": {},
   "outputs": [],
   "source": [
    "ns_df = pd.read_csv('price.csv',sep=',')"
   ]
  },
  {
   "cell_type": "code",
   "execution_count": 4,
   "metadata": {},
   "outputs": [
    {
     "data": {
      "text/plain": [
       "(13131, 81)"
      ]
     },
     "execution_count": 4,
     "metadata": {},
     "output_type": "execute_result"
    }
   ],
   "source": [
    "ns_df.shape"
   ]
  },
  {
   "cell_type": "code",
   "execution_count": 5,
   "metadata": {},
   "outputs": [
    {
     "data": {
      "text/html": [
       "<div>\n",
       "<style scoped>\n",
       "    .dataframe tbody tr th:only-of-type {\n",
       "        vertical-align: middle;\n",
       "    }\n",
       "\n",
       "    .dataframe tbody tr th {\n",
       "        vertical-align: top;\n",
       "    }\n",
       "\n",
       "    .dataframe thead th {\n",
       "        text-align: right;\n",
       "    }\n",
       "</style>\n",
       "<table border=\"1\" class=\"dataframe\">\n",
       "  <thead>\n",
       "    <tr style=\"text-align: right;\">\n",
       "      <th></th>\n",
       "      <th>City Code</th>\n",
       "      <th>City</th>\n",
       "      <th>Metro</th>\n",
       "      <th>County</th>\n",
       "      <th>State</th>\n",
       "      <th>Population Rank</th>\n",
       "      <th>November 2010</th>\n",
       "      <th>December 2010</th>\n",
       "      <th>January 2011</th>\n",
       "      <th>February 2011</th>\n",
       "      <th>...</th>\n",
       "      <th>April 2016</th>\n",
       "      <th>May 2016</th>\n",
       "      <th>June 2016</th>\n",
       "      <th>July 2016</th>\n",
       "      <th>August 2016</th>\n",
       "      <th>September 2016</th>\n",
       "      <th>October 2016</th>\n",
       "      <th>November 2016</th>\n",
       "      <th>December 2016</th>\n",
       "      <th>January 2017</th>\n",
       "    </tr>\n",
       "  </thead>\n",
       "  <tbody>\n",
       "    <tr>\n",
       "      <th>0</th>\n",
       "      <td>6181</td>\n",
       "      <td>New York</td>\n",
       "      <td>New York</td>\n",
       "      <td>Queens</td>\n",
       "      <td>NY</td>\n",
       "      <td>1</td>\n",
       "      <td>NaN</td>\n",
       "      <td>NaN</td>\n",
       "      <td>NaN</td>\n",
       "      <td>NaN</td>\n",
       "      <td>...</td>\n",
       "      <td>2334</td>\n",
       "      <td>2339</td>\n",
       "      <td>2345</td>\n",
       "      <td>2344</td>\n",
       "      <td>2336</td>\n",
       "      <td>2324</td>\n",
       "      <td>2318</td>\n",
       "      <td>2321</td>\n",
       "      <td>2321</td>\n",
       "      <td>2322</td>\n",
       "    </tr>\n",
       "    <tr>\n",
       "      <th>1</th>\n",
       "      <td>12447</td>\n",
       "      <td>Los Angeles</td>\n",
       "      <td>Los Angeles</td>\n",
       "      <td>Los Angeles</td>\n",
       "      <td>CA</td>\n",
       "      <td>2</td>\n",
       "      <td>2184.0</td>\n",
       "      <td>2184.0</td>\n",
       "      <td>2183.0</td>\n",
       "      <td>2188.0</td>\n",
       "      <td>...</td>\n",
       "      <td>2637</td>\n",
       "      <td>2662</td>\n",
       "      <td>2687</td>\n",
       "      <td>2704</td>\n",
       "      <td>2716</td>\n",
       "      <td>2723</td>\n",
       "      <td>2731</td>\n",
       "      <td>2740</td>\n",
       "      <td>2748</td>\n",
       "      <td>2753</td>\n",
       "    </tr>\n",
       "    <tr>\n",
       "      <th>2</th>\n",
       "      <td>17426</td>\n",
       "      <td>Chicago</td>\n",
       "      <td>Chicago</td>\n",
       "      <td>Cook</td>\n",
       "      <td>IL</td>\n",
       "      <td>3</td>\n",
       "      <td>1563.0</td>\n",
       "      <td>1555.0</td>\n",
       "      <td>1547.0</td>\n",
       "      <td>1537.0</td>\n",
       "      <td>...</td>\n",
       "      <td>1684</td>\n",
       "      <td>1686</td>\n",
       "      <td>1687</td>\n",
       "      <td>1685</td>\n",
       "      <td>1681</td>\n",
       "      <td>1675</td>\n",
       "      <td>1668</td>\n",
       "      <td>1656</td>\n",
       "      <td>1644</td>\n",
       "      <td>1632</td>\n",
       "    </tr>\n",
       "    <tr>\n",
       "      <th>3</th>\n",
       "      <td>39051</td>\n",
       "      <td>Houston</td>\n",
       "      <td>Houston</td>\n",
       "      <td>Harris</td>\n",
       "      <td>TX</td>\n",
       "      <td>4</td>\n",
       "      <td>1198.0</td>\n",
       "      <td>1199.0</td>\n",
       "      <td>1199.0</td>\n",
       "      <td>1200.0</td>\n",
       "      <td>...</td>\n",
       "      <td>1444</td>\n",
       "      <td>1446</td>\n",
       "      <td>1446</td>\n",
       "      <td>1443</td>\n",
       "      <td>1440</td>\n",
       "      <td>1438</td>\n",
       "      <td>1437</td>\n",
       "      <td>1437</td>\n",
       "      <td>1435</td>\n",
       "      <td>1430</td>\n",
       "    </tr>\n",
       "    <tr>\n",
       "      <th>4</th>\n",
       "      <td>13271</td>\n",
       "      <td>Philadelphia</td>\n",
       "      <td>Philadelphia</td>\n",
       "      <td>Philadelphia</td>\n",
       "      <td>PA</td>\n",
       "      <td>5</td>\n",
       "      <td>1092.0</td>\n",
       "      <td>1099.0</td>\n",
       "      <td>1094.0</td>\n",
       "      <td>1087.0</td>\n",
       "      <td>...</td>\n",
       "      <td>1206</td>\n",
       "      <td>1211</td>\n",
       "      <td>1218</td>\n",
       "      <td>1222</td>\n",
       "      <td>1223</td>\n",
       "      <td>1220</td>\n",
       "      <td>1216</td>\n",
       "      <td>1211</td>\n",
       "      <td>1209</td>\n",
       "      <td>1212</td>\n",
       "    </tr>\n",
       "  </tbody>\n",
       "</table>\n",
       "<p>5 rows × 81 columns</p>\n",
       "</div>"
      ],
      "text/plain": [
       "   City Code          City         Metro        County State  Population Rank  \\\n",
       "0       6181      New York      New York        Queens    NY                1   \n",
       "1      12447   Los Angeles   Los Angeles   Los Angeles    CA                2   \n",
       "2      17426       Chicago       Chicago          Cook    IL                3   \n",
       "3      39051       Houston       Houston        Harris    TX                4   \n",
       "4      13271  Philadelphia  Philadelphia  Philadelphia    PA                5   \n",
       "\n",
       "   November 2010  December 2010  January 2011  February 2011  ...  April 2016  \\\n",
       "0            NaN            NaN           NaN            NaN  ...        2334   \n",
       "1         2184.0         2184.0        2183.0         2188.0  ...        2637   \n",
       "2         1563.0         1555.0        1547.0         1537.0  ...        1684   \n",
       "3         1198.0         1199.0        1199.0         1200.0  ...        1444   \n",
       "4         1092.0         1099.0        1094.0         1087.0  ...        1206   \n",
       "\n",
       "   May 2016  June 2016  July 2016  August 2016  September 2016  October 2016  \\\n",
       "0      2339       2345       2344         2336            2324          2318   \n",
       "1      2662       2687       2704         2716            2723          2731   \n",
       "2      1686       1687       1685         1681            1675          1668   \n",
       "3      1446       1446       1443         1440            1438          1437   \n",
       "4      1211       1218       1222         1223            1220          1216   \n",
       "\n",
       "   November 2016  December 2016  January 2017  \n",
       "0           2321           2321          2322  \n",
       "1           2740           2748          2753  \n",
       "2           1656           1644          1632  \n",
       "3           1437           1435          1430  \n",
       "4           1211           1209          1212  \n",
       "\n",
       "[5 rows x 81 columns]"
      ]
     },
     "execution_count": 5,
     "metadata": {},
     "output_type": "execute_result"
    }
   ],
   "source": [
    "ns_df.head()"
   ]
  },
  {
   "cell_type": "code",
   "execution_count": 39,
   "metadata": {},
   "outputs": [
    {
     "data": {
      "text/plain": [
       "<Axes: >"
      ]
     },
     "execution_count": 39,
     "metadata": {},
     "output_type": "execute_result"
    },
    {
     "data": {
      "image/png": "[encoded data removed]",
      "text/plain": [
       "<Figure size 1500x500 with 1 Axes>"
      ]
     },
     "metadata": {},
     "output_type": "display_data"
    }
   ],
   "source": [
    "kwargs = {'kind':'line','figsize':(15,5)}\n",
    "\n",
    "ns_df[ns_df.City.eq('Chicago')].iloc[:,6:].plot(**kwargs)"
   ]
  },
  {
   "cell_type": "code",
   "execution_count": 11,
   "metadata": {},
   "outputs": [
    {
     "data": {
      "text/html": [
       "<div>\n",
       "<style scoped>\n",
       "    .dataframe tbody tr th:only-of-type {\n",
       "        vertical-align: middle;\n",
       "    }\n",
       "\n",
       "    .dataframe tbody tr th {\n",
       "        vertical-align: top;\n",
       "    }\n",
       "\n",
       "    .dataframe thead th {\n",
       "        text-align: right;\n",
       "    }\n",
       "</style>\n",
       "<table border=\"1\" class=\"dataframe\">\n",
       "  <thead>\n",
       "    <tr style=\"text-align: right;\">\n",
       "      <th></th>\n",
       "      <th>City Code</th>\n",
       "      <th>City</th>\n",
       "      <th>Metro</th>\n",
       "      <th>County</th>\n",
       "      <th>State</th>\n",
       "      <th>Population Rank</th>\n",
       "      <th>November 2010</th>\n",
       "      <th>December 2010</th>\n",
       "      <th>January 2011</th>\n",
       "      <th>February 2011</th>\n",
       "      <th>...</th>\n",
       "      <th>April 2016</th>\n",
       "      <th>May 2016</th>\n",
       "      <th>June 2016</th>\n",
       "      <th>July 2016</th>\n",
       "      <th>August 2016</th>\n",
       "      <th>September 2016</th>\n",
       "      <th>October 2016</th>\n",
       "      <th>November 2016</th>\n",
       "      <th>December 2016</th>\n",
       "      <th>January 2017</th>\n",
       "    </tr>\n",
       "  </thead>\n",
       "  <tbody>\n",
       "    <tr>\n",
       "      <th>0</th>\n",
       "      <td>6181</td>\n",
       "      <td>New York</td>\n",
       "      <td>New York</td>\n",
       "      <td>Queens</td>\n",
       "      <td>NY</td>\n",
       "      <td>1</td>\n",
       "      <td>NaN</td>\n",
       "      <td>NaN</td>\n",
       "      <td>NaN</td>\n",
       "      <td>NaN</td>\n",
       "      <td>...</td>\n",
       "      <td>2334</td>\n",
       "      <td>2339</td>\n",
       "      <td>2345</td>\n",
       "      <td>2344</td>\n",
       "      <td>2336</td>\n",
       "      <td>2324</td>\n",
       "      <td>2318</td>\n",
       "      <td>2321</td>\n",
       "      <td>2321</td>\n",
       "      <td>2322</td>\n",
       "    </tr>\n",
       "    <tr>\n",
       "      <th>1</th>\n",
       "      <td>12447</td>\n",
       "      <td>Los Angeles</td>\n",
       "      <td>Los Angeles</td>\n",
       "      <td>Los Angeles</td>\n",
       "      <td>CA</td>\n",
       "      <td>2</td>\n",
       "      <td>2184.0</td>\n",
       "      <td>2184.0</td>\n",
       "      <td>2183.0</td>\n",
       "      <td>2188.0</td>\n",
       "      <td>...</td>\n",
       "      <td>2637</td>\n",
       "      <td>2662</td>\n",
       "      <td>2687</td>\n",
       "      <td>2704</td>\n",
       "      <td>2716</td>\n",
       "      <td>2723</td>\n",
       "      <td>2731</td>\n",
       "      <td>2740</td>\n",
       "      <td>2748</td>\n",
       "      <td>2753</td>\n",
       "    </tr>\n",
       "    <tr>\n",
       "      <th>2</th>\n",
       "      <td>17426</td>\n",
       "      <td>Chicago</td>\n",
       "      <td>Chicago</td>\n",
       "      <td>Cook</td>\n",
       "      <td>IL</td>\n",
       "      <td>3</td>\n",
       "      <td>1563.0</td>\n",
       "      <td>1555.0</td>\n",
       "      <td>1547.0</td>\n",
       "      <td>1537.0</td>\n",
       "      <td>...</td>\n",
       "      <td>1684</td>\n",
       "      <td>1686</td>\n",
       "      <td>1687</td>\n",
       "      <td>1685</td>\n",
       "      <td>1681</td>\n",
       "      <td>1675</td>\n",
       "      <td>1668</td>\n",
       "      <td>1656</td>\n",
       "      <td>1644</td>\n",
       "      <td>1632</td>\n",
       "    </tr>\n",
       "    <tr>\n",
       "      <th>3</th>\n",
       "      <td>39051</td>\n",
       "      <td>Houston</td>\n",
       "      <td>Houston</td>\n",
       "      <td>Harris</td>\n",
       "      <td>TX</td>\n",
       "      <td>4</td>\n",
       "      <td>1198.0</td>\n",
       "      <td>1199.0</td>\n",
       "      <td>1199.0</td>\n",
       "      <td>1200.0</td>\n",
       "      <td>...</td>\n",
       "      <td>1444</td>\n",
       "      <td>1446</td>\n",
       "      <td>1446</td>\n",
       "      <td>1443</td>\n",
       "      <td>1440</td>\n",
       "      <td>1438</td>\n",
       "      <td>1437</td>\n",
       "      <td>1437</td>\n",
       "      <td>1435</td>\n",
       "      <td>1430</td>\n",
       "    </tr>\n",
       "    <tr>\n",
       "      <th>4</th>\n",
       "      <td>13271</td>\n",
       "      <td>Philadelphia</td>\n",
       "      <td>Philadelphia</td>\n",
       "      <td>Philadelphia</td>\n",
       "      <td>PA</td>\n",
       "      <td>5</td>\n",
       "      <td>1092.0</td>\n",
       "      <td>1099.0</td>\n",
       "      <td>1094.0</td>\n",
       "      <td>1087.0</td>\n",
       "      <td>...</td>\n",
       "      <td>1206</td>\n",
       "      <td>1211</td>\n",
       "      <td>1218</td>\n",
       "      <td>1222</td>\n",
       "      <td>1223</td>\n",
       "      <td>1220</td>\n",
       "      <td>1216</td>\n",
       "      <td>1211</td>\n",
       "      <td>1209</td>\n",
       "      <td>1212</td>\n",
       "    </tr>\n",
       "    <tr>\n",
       "      <th>...</th>\n",
       "      <td>...</td>\n",
       "      <td>...</td>\n",
       "      <td>...</td>\n",
       "      <td>...</td>\n",
       "      <td>...</td>\n",
       "      <td>...</td>\n",
       "      <td>...</td>\n",
       "      <td>...</td>\n",
       "      <td>...</td>\n",
       "      <td>...</td>\n",
       "      <td>...</td>\n",
       "      <td>...</td>\n",
       "      <td>...</td>\n",
       "      <td>...</td>\n",
       "      <td>...</td>\n",
       "      <td>...</td>\n",
       "      <td>...</td>\n",
       "      <td>...</td>\n",
       "      <td>...</td>\n",
       "      <td>...</td>\n",
       "      <td>...</td>\n",
       "    </tr>\n",
       "    <tr>\n",
       "      <th>13126</th>\n",
       "      <td>397405</td>\n",
       "      <td>Highland Township</td>\n",
       "      <td>Gettysburg</td>\n",
       "      <td>Adams</td>\n",
       "      <td>PA</td>\n",
       "      <td>13127</td>\n",
       "      <td>1280.0</td>\n",
       "      <td>1280.0</td>\n",
       "      <td>1284.0</td>\n",
       "      <td>1284.0</td>\n",
       "      <td>...</td>\n",
       "      <td>1442</td>\n",
       "      <td>1440</td>\n",
       "      <td>1419</td>\n",
       "      <td>1409</td>\n",
       "      <td>1398</td>\n",
       "      <td>1395</td>\n",
       "      <td>1384</td>\n",
       "      <td>1368</td>\n",
       "      <td>1342</td>\n",
       "      <td>1321</td>\n",
       "    </tr>\n",
       "    <tr>\n",
       "      <th>13127</th>\n",
       "      <td>398292</td>\n",
       "      <td>Town of Wrightstown</td>\n",
       "      <td>Green Bay</td>\n",
       "      <td>Brown</td>\n",
       "      <td>WI</td>\n",
       "      <td>13128</td>\n",
       "      <td>639.0</td>\n",
       "      <td>650.0</td>\n",
       "      <td>668.0</td>\n",
       "      <td>694.0</td>\n",
       "      <td>...</td>\n",
       "      <td>1114</td>\n",
       "      <td>1133</td>\n",
       "      <td>1136</td>\n",
       "      <td>1124</td>\n",
       "      <td>1090</td>\n",
       "      <td>1047</td>\n",
       "      <td>1012</td>\n",
       "      <td>1004</td>\n",
       "      <td>1018</td>\n",
       "      <td>1047</td>\n",
       "    </tr>\n",
       "    <tr>\n",
       "      <th>13128</th>\n",
       "      <td>398343</td>\n",
       "      <td>Urbana</td>\n",
       "      <td>Corning</td>\n",
       "      <td>Steuben</td>\n",
       "      <td>NY</td>\n",
       "      <td>13129</td>\n",
       "      <td>1433.0</td>\n",
       "      <td>1431.0</td>\n",
       "      <td>1437.0</td>\n",
       "      <td>1458.0</td>\n",
       "      <td>...</td>\n",
       "      <td>1595</td>\n",
       "      <td>1611</td>\n",
       "      <td>1612</td>\n",
       "      <td>1607</td>\n",
       "      <td>1609</td>\n",
       "      <td>1619</td>\n",
       "      <td>1627</td>\n",
       "      <td>1625</td>\n",
       "      <td>1625</td>\n",
       "      <td>1624</td>\n",
       "    </tr>\n",
       "    <tr>\n",
       "      <th>13129</th>\n",
       "      <td>398839</td>\n",
       "      <td>Angels</td>\n",
       "      <td>NaN</td>\n",
       "      <td>Calaveras</td>\n",
       "      <td>CA</td>\n",
       "      <td>13130</td>\n",
       "      <td>1516.0</td>\n",
       "      <td>1529.0</td>\n",
       "      <td>1529.0</td>\n",
       "      <td>1515.0</td>\n",
       "      <td>...</td>\n",
       "      <td>1514</td>\n",
       "      <td>1528</td>\n",
       "      <td>1534</td>\n",
       "      <td>1525</td>\n",
       "      <td>1526</td>\n",
       "      <td>1529</td>\n",
       "      <td>1541</td>\n",
       "      <td>1553</td>\n",
       "      <td>1558</td>\n",
       "      <td>1563</td>\n",
       "    </tr>\n",
       "    <tr>\n",
       "      <th>13130</th>\n",
       "      <td>737788</td>\n",
       "      <td>Lebanon Borough</td>\n",
       "      <td>New York</td>\n",
       "      <td>Hunterdon</td>\n",
       "      <td>NJ</td>\n",
       "      <td>13131</td>\n",
       "      <td>1759.0</td>\n",
       "      <td>1784.0</td>\n",
       "      <td>1787.0</td>\n",
       "      <td>1786.0</td>\n",
       "      <td>...</td>\n",
       "      <td>1970</td>\n",
       "      <td>1982</td>\n",
       "      <td>1973</td>\n",
       "      <td>1958</td>\n",
       "      <td>1934</td>\n",
       "      <td>1929</td>\n",
       "      <td>1949</td>\n",
       "      <td>1993</td>\n",
       "      <td>2034</td>\n",
       "      <td>2057</td>\n",
       "    </tr>\n",
       "  </tbody>\n",
       "</table>\n",
       "<p>12654 rows × 81 columns</p>\n",
       "</div>"
      ],
      "text/plain": [
       "       City Code                 City         Metro        County State  \\\n",
       "0           6181             New York      New York        Queens    NY   \n",
       "1          12447          Los Angeles   Los Angeles   Los Angeles    CA   \n",
       "2          17426              Chicago       Chicago          Cook    IL   \n",
       "3          39051              Houston       Houston        Harris    TX   \n",
       "4          13271         Philadelphia  Philadelphia  Philadelphia    PA   \n",
       "...          ...                  ...           ...           ...   ...   \n",
       "13126     397405    Highland Township    Gettysburg         Adams    PA   \n",
       "13127     398292  Town of Wrightstown     Green Bay         Brown    WI   \n",
       "13128     398343               Urbana       Corning       Steuben    NY   \n",
       "13129     398839               Angels           NaN     Calaveras    CA   \n",
       "13130     737788      Lebanon Borough      New York     Hunterdon    NJ   \n",
       "\n",
       "       Population Rank  November 2010  December 2010  January 2011  \\\n",
       "0                    1            NaN            NaN           NaN   \n",
       "1                    2         2184.0         2184.0        2183.0   \n",
       "2                    3         1563.0         1555.0        1547.0   \n",
       "3                    4         1198.0         1199.0        1199.0   \n",
       "4                    5         1092.0         1099.0        1094.0   \n",
       "...                ...            ...            ...           ...   \n",
       "13126            13127         1280.0         1280.0        1284.0   \n",
       "13127            13128          639.0          650.0         668.0   \n",
       "13128            13129         1433.0         1431.0        1437.0   \n",
       "13129            13130         1516.0         1529.0        1529.0   \n",
       "13130            13131         1759.0         1784.0        1787.0   \n",
       "\n",
       "       February 2011  ...  April 2016  May 2016  June 2016  July 2016  \\\n",
       "0                NaN  ...        2334      2339       2345       2344   \n",
       "1             2188.0  ...        2637      2662       2687       2704   \n",
       "2             1537.0  ...        1684      1686       1687       1685   \n",
       "3             1200.0  ...        1444      1446       1446       1443   \n",
       "4             1087.0  ...        1206      1211       1218       1222   \n",
       "...              ...  ...         ...       ...        ...        ...   \n",
       "13126         1284.0  ...        1442      1440       1419       1409   \n",
       "13127          694.0  ...        1114      1133       1136       1124   \n",
       "13128         1458.0  ...        1595      1611       1612       1607   \n",
       "13129         1515.0  ...        1514      1528       1534       1525   \n",
       "13130         1786.0  ...        1970      1982       1973       1958   \n",
       "\n",
       "       August 2016  September 2016  October 2016  November 2016  \\\n",
       "0             2336            2324          2318           2321   \n",
       "1             2716            2723          2731           2740   \n",
       "2             1681            1675          1668           1656   \n",
       "3             1440            1438          1437           1437   \n",
       "4             1223            1220          1216           1211   \n",
       "...            ...             ...           ...            ...   \n",
       "13126         1398            1395          1384           1368   \n",
       "13127         1090            1047          1012           1004   \n",
       "13128         1609            1619          1627           1625   \n",
       "13129         1526            1529          1541           1553   \n",
       "13130         1934            1929          1949           1993   \n",
       "\n",
       "       December 2016  January 2017  \n",
       "0               2321          2322  \n",
       "1               2748          2753  \n",
       "2               1644          1632  \n",
       "3               1435          1430  \n",
       "4               1209          1212  \n",
       "...              ...           ...  \n",
       "13126           1342          1321  \n",
       "13127           1018          1047  \n",
       "13128           1625          1624  \n",
       "13129           1558          1563  \n",
       "13130           2034          2057  \n",
       "\n",
       "[12654 rows x 81 columns]"
      ]
     },
     "execution_count": 11,
     "metadata": {},
     "output_type": "execute_result"
    }
   ],
   "source": [
    "g_df.head()"
   ]
  },
  {
   "cell_type": "code",
   "execution_count": null,
   "metadata": {},
   "outputs": [],
   "source": []
  },
  {
   "cell_type": "code",
   "execution_count": null,
   "metadata": {},
   "outputs": [],
   "source": []
  },
  {
   "cell_type": "code",
   "execution_count": null,
   "metadata": {},
   "outputs": [],
   "source": []
  }
 ],
 "metadata": {
  "kernelspec": {
   "display_name": ".venv",
   "language": "python",
   "name": "python3"
  },
  "language_info": {
   "codemirror_mode": {
    "name": "ipython",
    "version": 3
   },
   "file_extension": ".py",
   "mimetype": "text/x-python",
   "name": "python",
   "nbconvert_exporter": "python",
   "pygments_lexer": "ipython3",
   "version": "3.11.2"
  },
  "orig_nbformat": 4
 },
 "nbformat": 4,
 "nbformat_minor": 2
}
